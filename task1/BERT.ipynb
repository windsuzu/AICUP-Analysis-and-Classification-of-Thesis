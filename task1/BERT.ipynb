{
 "cells": [
  {
   "cell_type": "markdown",
   "metadata": {
    "colab_type": "text",
    "id": "G8RYyK1sJ7G3"
   },
   "source": [
    "TODO:\n",
    "\n",
    "collate_fn => prediction\n",
    "\n",
    "random_state=2018\n",
    "\n",
    "split_test: 7:3\n",
    "\n",
    "batch_size: 32\n",
    "\n",
    "manual CLS SEP\n"
   ]
  },
  {
   "cell_type": "markdown",
   "metadata": {
    "colab_type": "text",
    "id": "qB0MuUSRVC1b"
   },
   "source": [
    "# Import Frameworks"
   ]
  },
  {
   "cell_type": "code",
   "execution_count": 1,
   "metadata": {
    "colab": {},
    "colab_type": "code",
    "id": "rq96ri3_VE3Y"
   },
   "outputs": [],
   "source": [
    "# Import frameworks\n",
    "import os\n",
    "import numpy as np\n",
    "import pandas as pd\n",
    "import pickle\n",
    "import torch\n",
    "import matplotlib.pyplot as plt\n",
    "import json\n",
    "from transformers import BertTokenizer, BertForSequenceClassification\n",
    "from sklearn.model_selection import train_test_split\n",
    "from tqdm import tqdm\n",
    "from torch.utils.data import DataLoader, TensorDataset, RandomSampler, SequentialSampler\n",
    "from keras.preprocessing.sequence import pad_sequences\n",
    "from IPython.display import clear_output\n",
    "\n",
    "clear_output()"
   ]
  },
  {
   "cell_type": "markdown",
   "metadata": {
    "colab_type": "text",
    "id": "Pdc-jMY6VUhA"
   },
   "source": [
    "# Setup Environments"
   ]
  },
  {
   "cell_type": "code",
   "execution_count": 7,
   "metadata": {
    "colab": {},
    "colab_type": "code",
    "id": "YE87dQFJVZjB"
   },
   "outputs": [],
   "source": [
    "# plt setup\n",
    "%matplotlib inline\n",
    "\n",
    "# drive setup\n",
    "# drive.mount('/content/drive')\n",
    "# dataset_url = \"/content/drive/My Drive/NCKUDMPH2/task1/dataset/\"\n",
    "# program_url = \"/content/drive/My Drive/NCKUDMPH2/task1/program/\"\n",
    "root = os.getcwd()\n",
    "dataset_url = os.path.join(root, \"dataset/\")\n",
    "program_url = os.path.join(root, \"program/\")\n",
    "\n",
    "# setup gpu\n",
    "device = torch.device('cuda' if torch.cuda.is_available() else 'cpu')\n",
    "\n",
    "# setup parameters\n",
    "num_labels = 6\n",
    "batch_size = 16\n",
    "epochs = 10\n",
    "learning_rate = 2e-5\n",
    "\n",
    "clear_output()"
   ]
  },
  {
   "cell_type": "markdown",
   "metadata": {
    "colab_type": "text",
    "id": "TCiAw0iiJz58"
   },
   "source": [
    "# Setup BERT"
   ]
  },
  {
   "cell_type": "code",
   "execution_count": 8,
   "metadata": {
    "colab": {},
    "colab_type": "code",
    "id": "zdrdqryuJzP0"
   },
   "outputs": [],
   "source": [
    "PRETRAINED_MODEL_NAME = 'bert-base-uncased'\n",
    "tokenizer = BertTokenizer.from_pretrained(PRETRAINED_MODEL_NAME, do_lower_case=True)\n",
    "model = BertForSequenceClassification.from_pretrained(\n",
    "    PRETRAINED_MODEL_NAME, num_labels=num_labels)\n",
    "\n",
    "clear_output()"
   ]
  },
  {
   "cell_type": "markdown",
   "metadata": {
    "colab_type": "text",
    "id": "G0QpN26BbkCy"
   },
   "source": [
    "# Load Data and split it into Train/Dev/Test"
   ]
  },
  {
   "cell_type": "code",
   "execution_count": 9,
   "metadata": {
    "colab": {},
    "colab_type": "code",
    "id": "YIx_fSDIZZy7"
   },
   "outputs": [],
   "source": [
    "dataset = pd.read_csv(dataset_url+'task1_trainset.csv', dtype=str)\n",
    "\n",
    "# Drop unuse columns\n",
    "dataset.drop('Title',axis=1,inplace=True)\n",
    "dataset.drop('Categories',axis=1,inplace=True)\n",
    "dataset.drop('Created Date',axis=1, inplace=True)\n",
    "dataset.drop('Authors',axis=1,inplace=True)\n",
    "\n",
    "# for i in range(len(dataset['Abstract'])):\n",
    "#     dataset['Abstract'][i] = remove_stopwords(dataset['Abstract'][i])\n",
    "\n",
    "# Data Partition\n",
    "trainset, validset = train_test_split(dataset, test_size=0.1, random_state=2018)\n",
    "\n",
    "trainset.to_csv(dataset_url+'trainset.csv',index=False)\n",
    "validset.to_csv(dataset_url+'validset.csv',index=False)\n",
    "\n",
    "# Test Data\n",
    "dataset = pd.read_csv(dataset_url+'task1_public_testset.csv')\n",
    "dataset.drop('Title',axis=1,inplace=True)\n",
    "dataset.drop('Categories',axis=1,inplace=True)\n",
    "dataset.drop('Created Date',axis=1, inplace=True)\n",
    "dataset.drop('Authors',axis=1,inplace=True)\n",
    "\n",
    "# for i in range(len(dataset['Abstract'])):\n",
    "#     dataset['Abstract'][i] = remove_stopwords(dataset['Abstract'][i])\n",
    "\n",
    "dataset.to_csv(dataset_url+'testset.csv',index=False)"
   ]
  },
  {
   "cell_type": "markdown",
   "metadata": {
    "colab_type": "text",
    "id": "_0AYh5VmxczO"
   },
   "source": [
    "# Parse Dataset"
   ]
  },
  {
   "cell_type": "code",
   "execution_count": 10,
   "metadata": {
    "colab": {},
    "colab_type": "code",
    "id": "YlDk9O5ks2Bt"
   },
   "outputs": [],
   "source": [
    "def label_to_onehot(labels):\n",
    "    label_dict = {'BACKGROUND': 0, 'OBJECTIVES':1, 'METHODS':2, 'RESULTS':3, 'CONCLUSIONS':4, 'OTHERS':5}\n",
    "    onehot = [0,0,0,0,0,0]\n",
    "    for l in labels.split('/'):\n",
    "        onehot[label_dict[l]] = 1\n",
    "    return onehot"
   ]
  },
  {
   "cell_type": "code",
   "execution_count": 11,
   "metadata": {
    "colab": {},
    "colab_type": "code",
    "id": "Y5U8vr2MdU3F"
   },
   "outputs": [],
   "source": [
    "def label_to_ids_list(sentence):\n",
    "    new_sent = \"[CLS] \" + sentence + \" [SEP]\"\n",
    "    ids = [tokenizer.convert_tokens_to_ids(text) for text in tokenizer.tokenize(new_sent)]\n",
    "    return ids\n"
   ]
  },
  {
   "cell_type": "code",
   "execution_count": 12,
   "metadata": {
    "colab": {},
    "colab_type": "code",
    "id": "77JufjOkxiNG"
   },
   "outputs": [],
   "source": [
    "def generate_masks(input_ids):\n",
    "    # Create attention masks\n",
    "    attention_masks = []\n",
    "    # Create a mask of 1s for each token followed by 0s for padding\n",
    "    for seq in input_ids:\n",
    "        seq_mask = [float(i > 0) for i in seq]\n",
    "        attention_masks.append(seq_mask)\n",
    "    return attention_masks"
   ]
  },
  {
   "cell_type": "code",
   "execution_count": 13,
   "metadata": {
    "colab": {},
    "colab_type": "code",
    "id": "cdHQzA9zxiyO"
   },
   "outputs": [],
   "source": [
    "# sent_list += [tokenizer.encode(abstract, add_special_tokens=True)\n",
    "#               for abstract in abstract_parts]\n",
    "\n",
    "def generate_dataloader(dataset, labeling, sequntial):\n",
    "    sent_list, label_list = [], []\n",
    "    for i in dataset.iterrows():\n",
    "        abstract_parts = i[1]['Abstract'].split('$$$')\n",
    "        sent_list += [label_to_ids_list(abstract) for abstract in abstract_parts]\n",
    "        if labeling:\n",
    "            label_parts = i[1]['Task 1'].split(\" \")\n",
    "            label_list += [label_to_onehot(label) for label in label_parts]\n",
    "    input_ids = pad_sequences([txt for txt in sent_list],\n",
    "                              maxlen=64, dtype=\"long\",\n",
    "                              truncating=\"post\", padding=\"post\")\n",
    "    attention_masks = generate_masks(input_ids)\n",
    "    inputs = torch.tensor(input_ids)\n",
    "    if labeling:\n",
    "        labels = torch.tensor(label_list)\n",
    "    masks = torch.tensor(attention_masks)\n",
    "\n",
    "    dataset = TensorDataset(\n",
    "        inputs, masks, labels) if labeling else TensorDataset(inputs, masks)\n",
    "    train_sampler = SequentialSampler(\n",
    "        dataset) if sequntial else RandomSampler(dataset)\n",
    "    return DataLoader(dataset, sampler=train_sampler,\n",
    "                      batch_size=batch_size, num_workers=0)"
   ]
  },
  {
   "cell_type": "code",
   "execution_count": 14,
   "metadata": {
    "colab": {
     "base_uri": "https://localhost:8080/",
     "height": 68
    },
    "colab_type": "code",
    "executionInfo": {
     "elapsed": 196795,
     "status": "ok",
     "timestamp": 1576157611755,
     "user": {
      "displayName": "NE6081022王士杰",
      "photoUrl": "",
      "userId": "16413260345102275028"
     },
     "user_tz": -480
    },
    "id": "7CH9UuDVH2S6",
    "outputId": "59a0fb32-0e89-4508-9bc9-bd9e564e3e09"
   },
   "outputs": [
    {
     "name": "stdout",
     "output_type": "stream",
     "text": [
      "GENERATING TRAIN DATALODAER\n",
      "GENERATING VALID DATALODAER\n",
      "GENERATING TEST DATALODAER\n"
     ]
    }
   ],
   "source": [
    "trainset = pd.read_csv(dataset_url+'trainset.csv', dtype=str)\n",
    "validset = pd.read_csv(dataset_url+'validset.csv', dtype=str)\n",
    "testset = pd.read_csv(dataset_url+'testset.csv', dtype=str)\n",
    "\n",
    "print(\"GENERATING TRAIN DATALODAER\")\n",
    "train_dataloader = generate_dataloader(trainset, True, False)\n",
    "print(\"GENERATING VALID DATALODAER\")\n",
    "valid_dataloader = generate_dataloader(validset, True, True)\n",
    "print(\"GENERATING TEST DATALODAER\")\n",
    "test_dataloader = generate_dataloader(testset, False, True)"
   ]
  },
  {
   "cell_type": "markdown",
   "metadata": {
    "colab_type": "text",
    "id": "FU1cKKZBxsCN"
   },
   "source": [
    "# Start Training"
   ]
  },
  {
   "cell_type": "code",
   "execution_count": 15,
   "metadata": {
    "colab": {},
    "colab_type": "code",
    "id": "ho1JJ9WBxyv6"
   },
   "outputs": [],
   "source": [
    "class F1():\n",
    "    def __init__(self):\n",
    "        self.threshold = 0.5\n",
    "        self.n_precision = 0\n",
    "        self.n_recall = 0\n",
    "        self.n_corrects = 0\n",
    "        self.name = 'F1'\n",
    "\n",
    "    def reset(self):\n",
    "        self.n_precision = 0\n",
    "        self.n_recall = 0\n",
    "        self.n_corrects = 0\n",
    "\n",
    "    def update(self, predicts, groundTruth):\n",
    "        predicts = predicts > self.threshold\n",
    "        self.n_precision += torch.sum(predicts).data.item()\n",
    "        self.n_recall += torch.sum(groundTruth).data.item()\n",
    "        self.n_corrects += torch.sum(groundTruth.type(torch.uint8)\n",
    "                                     * predicts).data.item()\n",
    "\n",
    "    def get_score(self):\n",
    "        recall = self.n_corrects / self.n_recall\n",
    "        precision = self.n_corrects / \\\n",
    "            (self.n_precision + 1e-20)  # prevent divided by zero\n",
    "        return 2 * (recall * precision) / (recall + precision + 1e-20)\n",
    "\n",
    "    def print_score(self):\n",
    "        score = self.get_score()\n",
    "        return '{:.5f}'.format(score)"
   ]
  },
  {
   "cell_type": "code",
   "execution_count": 16,
   "metadata": {
    "colab": {},
    "colab_type": "code",
    "id": "Kpe9LO73x1aE"
   },
   "outputs": [],
   "source": [
    "def run_epoch(epoch, isTraining):\n",
    "    model.train(isTraining)\n",
    "\n",
    "    f1_score = F1()\n",
    "    loss = 0\n",
    "    dataloader = train_dataloader if isTraining else valid_dataloader\n",
    "    desc = \"Train\" if isTraining else \"Valid\"\n",
    "    trange = tqdm(enumerate(dataloader), total=len(\n",
    "        dataloader), desc=desc)\n",
    "\n",
    "    for i, batch in trange:\n",
    "        batch = tuple(t.to(device) for t in batch)\n",
    "        b_input_ids, b_input_mask, b_labels = batch\n",
    "\n",
    "        b_input_ids = b_input_ids.long()\n",
    "        b_labels = b_labels.float()\n",
    "\n",
    "        # Extract tensor from tuple\n",
    "        o_labels = model(b_input_ids, b_input_mask)[0]\n",
    "        batch_loss = criteria(o_labels, b_labels)\n",
    "\n",
    "        if isTraining:\n",
    "            optimizer.zero_grad()\n",
    "            batch_loss.backward()\n",
    "            optimizer.step()\n",
    "\n",
    "        loss += batch_loss.item()\n",
    "        f1_score.update(o_labels, b_labels)\n",
    "        trange.set_postfix(\n",
    "            loss=loss / (i + 1), f1=f1_score.print_score())\n",
    "        history['train' if isTraining else 'valid'].append(\n",
    "            {'f1': f1_score.get_score(), 'loss': loss / len(trange)})"
   ]
  },
  {
   "cell_type": "code",
   "execution_count": 17,
   "metadata": {
    "colab": {},
    "colab_type": "code",
    "id": "KsOsf0Dex4wz"
   },
   "outputs": [],
   "source": [
    "def save(epoch):\n",
    "    if not os.path.exists(program_url+'model'):\n",
    "        os.makedirs(program_url+'model')\n",
    "    torch.save(model.state_dict(), program_url+'model/model.pkl.'+str(epoch))\n",
    "    with open(program_url+'model/history.json', 'w') as f:\n",
    "        json.dump(history, f, indent=4)"
   ]
  },
  {
   "cell_type": "code",
   "execution_count": 18,
   "metadata": {
    "colab": {
     "base_uri": "https://localhost:8080/",
     "height": 187
    },
    "colab_type": "code",
    "executionInfo": {
     "elapsed": 3959774,
     "status": "ok",
     "timestamp": 1576162826969,
     "user": {
      "displayName": "NE6081022王士杰",
      "photoUrl": "",
      "userId": "16413260345102275028"
     },
     "user_tz": -480
    },
    "id": "SFmYU-mux-E8",
    "outputId": "d98b3055-584d-4b73-a7c8-fe5dd72b39bc"
   },
   "outputs": [
    {
     "name": "stderr",
     "output_type": "stream",
     "text": [
      "Train: 100%|██████████| 2632/2632 [11:32<00:00,  3.80it/s, f1=0.53151, loss=0.32] \n",
      "Valid: 100%|██████████| 298/298 [00:17<00:00, 16.69it/s, f1=0.61201, loss=0.294]\n",
      "Train: 100%|██████████| 2632/2632 [11:35<00:00,  3.78it/s, f1=0.63774, loss=0.271]\n",
      "Valid: 100%|██████████| 298/298 [00:17<00:00, 16.82it/s, f1=0.60844, loss=0.291]\n",
      "Train: 100%|██████████| 2632/2632 [11:36<00:00,  3.78it/s, f1=0.70607, loss=0.234]\n",
      "Valid: 100%|██████████| 298/298 [00:17<00:00, 16.74it/s, f1=0.63025, loss=0.313]\n",
      "Train: 100%|██████████| 2632/2632 [11:33<00:00,  3.80it/s, f1=0.76777, loss=0.197]\n",
      "Valid: 100%|██████████| 298/298 [00:17<00:00, 17.05it/s, f1=0.63121, loss=0.331]\n",
      "Train: 100%|██████████| 2632/2632 [11:33<00:00,  3.79it/s, f1=0.82251, loss=0.159]\n",
      "Valid: 100%|██████████| 298/298 [00:17<00:00, 16.99it/s, f1=0.63509, loss=0.386]\n",
      "Train: 100%|██████████| 2632/2632 [11:33<00:00,  3.79it/s, f1=0.86330, loss=0.13] \n",
      "Valid: 100%|██████████| 298/298 [00:17<00:00, 16.99it/s, f1=0.62120, loss=0.402]\n",
      "Train: 100%|██████████| 2632/2632 [11:33<00:00,  3.80it/s, f1=0.89325, loss=0.105]\n",
      "Valid: 100%|██████████| 298/298 [00:17<00:00, 16.99it/s, f1=0.62267, loss=0.46] \n",
      "Train: 100%|██████████| 2632/2632 [11:32<00:00,  3.80it/s, f1=0.91470, loss=0.0861]\n",
      "Valid: 100%|██████████| 298/298 [00:17<00:00, 16.93it/s, f1=0.62968, loss=0.482]\n",
      "Train: 100%|██████████| 2632/2632 [11:35<00:00,  3.79it/s, f1=0.92949, loss=0.0728]\n",
      "Valid: 100%|██████████| 298/298 [00:17<00:00, 16.60it/s, f1=0.62555, loss=0.518]\n",
      "Train: 100%|██████████| 2632/2632 [11:33<00:00,  3.79it/s, f1=0.94184, loss=0.0606]\n",
      "Valid: 100%|██████████| 298/298 [00:17<00:00, 17.07it/s, f1=0.62305, loss=0.54] \n"
     ]
    }
   ],
   "source": [
    "param_optimizer = list(model.named_parameters())\n",
    "no_decay = ['bias', 'gamma', 'beta']\n",
    "\n",
    "optimizer_grouped_parameters = [\n",
    "    {'params': [p for n, p in param_optimizer\n",
    "                if not any(nd in n for nd in no_decay)],\n",
    "        'weight_decay_rate': 0.01},\n",
    "    {'params': [p for n, p in param_optimizer\n",
    "                if any(nd in n for nd in no_decay)],\n",
    "        'weight_decay_rate': 0.0}\n",
    "]\n",
    "\n",
    "# BCELoss can't handle negative values\n",
    "criteria = torch.nn.BCEWithLogitsLoss()\n",
    "optimizer = torch.optim.AdamW(optimizer_grouped_parameters, lr=learning_rate)\n",
    "model.to(device)\n",
    "history = {'train': [], 'valid': []}\n",
    "\n",
    "train_loss_set = []\n",
    "\n",
    "for epoch in range(epochs):\n",
    "    run_epoch(epoch, True)\n",
    "    run_epoch(epoch, False)\n",
    "    save(epoch)"
   ]
  },
  {
   "cell_type": "markdown",
   "metadata": {
    "colab_type": "text",
    "id": "a9GRAFvmyCiq"
   },
   "source": [
    "# Ploting the Results"
   ]
  },
  {
   "cell_type": "code",
   "execution_count": 19,
   "metadata": {
    "colab": {
     "base_uri": "https://localhost:8080/",
     "height": 672
    },
    "colab_type": "code",
    "executionInfo": {
     "elapsed": 1095,
     "status": "ok",
     "timestamp": 1576162828056,
     "user": {
      "displayName": "NE6081022王士杰",
      "photoUrl": "",
      "userId": "16413260345102275028"
     },
     "user_tz": -480
    },
    "id": "K3GJfCjZyEa-",
    "outputId": "c66146ea-21a5-4728-d675-2ff575413e80"
   },
   "outputs": [
    {
     "data": {
      "image/png": "[encoded data removed]",
      "text/plain": [
       "<Figure size 504x360 with 1 Axes>"
      ]
     },
     "metadata": {
      "needs_background": "light"
     },
     "output_type": "display_data"
    },
    {
     "data": {
      "image/png": "[encoded data removed]",
      "text/plain": [
       "<Figure size 504x360 with 1 Axes>"
      ]
     },
     "metadata": {
      "needs_background": "light"
     },
     "output_type": "display_data"
    },
    {
     "name": "stdout",
     "output_type": "stream",
     "text": [
      "Best F1 score  [0.7536231884057971, 2087]\n"
     ]
    }
   ],
   "source": [
    "with open(program_url+'model/history.json', 'r') as f:\n",
    "    history = json.loads(f.read())\n",
    "\n",
    "train_loss = [l['loss'] for l in history['train']]\n",
    "valid_loss = [l['loss'] for l in history['valid']]\n",
    "train_f1 = [l['f1'] for l in history['train']]\n",
    "valid_f1 = [l['f1'] for l in history['valid']]\n",
    "\n",
    "plt.figure(figsize=(7, 5))\n",
    "plt.title('Loss')\n",
    "plt.plot(train_loss, label='train')\n",
    "plt.plot(valid_loss, label='valid')\n",
    "plt.legend()\n",
    "plt.show()\n",
    "\n",
    "plt.figure(figsize=(7, 5))\n",
    "plt.title('F1 Score')\n",
    "plt.plot(train_f1, label='train')\n",
    "plt.plot(valid_f1, label='valid')\n",
    "plt.legend()\n",
    "plt.show()\n",
    "\n",
    "print('Best F1 score ', max([[l['f1'], idx]\n",
    "                             for idx, l in enumerate(history['valid'])]))"
   ]
  },
  {
   "cell_type": "markdown",
   "metadata": {
    "colab_type": "text",
    "id": "Gv1Zeya8yJ8U"
   },
   "source": [
    "# Prediction"
   ]
  },
  {
   "cell_type": "code",
   "execution_count": 20,
   "metadata": {
    "colab": {},
    "colab_type": "code",
    "id": "C_EjJsyWyLw3"
   },
   "outputs": [],
   "source": [
    "def SubmitGenerator(prediction, sampleFile, public=True, filename='prediction.csv'):\n",
    "    sample = pd.read_csv(sampleFile)\n",
    "    submit = {}\n",
    "    submit['order_id'] = list(sample.order_id.values)\n",
    "    redundant = len(sample) - prediction.shape[0]\n",
    "    if public:\n",
    "        submit['BACKGROUND'] = list(prediction[:,0]) + [0]*redundant\n",
    "        submit['OBJECTIVES'] = list(prediction[:,1]) + [0]*redundant\n",
    "        submit['METHODS'] = list(prediction[:,2]) + [0]*redundant\n",
    "        submit['RESULTS'] = list(prediction[:,3]) + [0]*redundant\n",
    "        submit['CONCLUSIONS'] = list(prediction[:,4]) + [0]*redundant\n",
    "        submit['OTHERS'] = list(prediction[:,5]) + [0]*redundant\n",
    "    else:\n",
    "        submit['BACKGROUND'] = [0]*redundant + list(prediction[:,0])\n",
    "        submit['OBJECTIVES'] = [0]*redundant + list(prediction[:,1])\n",
    "        submit['METHODS'] = [0]*redundant + list(prediction[:,2])\n",
    "        submit['RESULTS'] = [0]*redundant + list(prediction[:,3])\n",
    "        submit['CONCLUSIONS'] = [0]*redundant + list(prediction[:,4])\n",
    "        submit['OTHERS'] = [0]*redundant + list(prediction[:,5])\n",
    "    df = pd.DataFrame.from_dict(submit) \n",
    "    df.to_csv(filename,index=False)"
   ]
  },
  {
   "cell_type": "code",
   "execution_count": 21,
   "metadata": {
    "colab": {
     "base_uri": "https://localhost:8080/",
     "height": 34
    },
    "colab_type": "code",
    "executionInfo": {
     "elapsed": 995978,
     "status": "ok",
     "timestamp": 1576163824030,
     "user": {
      "displayName": "NE6081022王士杰",
      "photoUrl": "",
      "userId": "16413260345102275028"
     },
     "user_tz": -480
    },
    "id": "lpboVQoQyI7I",
    "outputId": "ffe8d85a-bd8e-42d4-d4f1-33f6979e1cd8"
   },
   "outputs": [
    {
     "name": "stderr",
     "output_type": "stream",
     "text": [
      "Test: 100%|██████████| 8198/8198 [07:39<00:00, 17.83it/s]\n"
     ]
    }
   ],
   "source": [
    "model.train(False)\n",
    "trange = tqdm(enumerate(test_dataloader), total=len(test_dataloader), desc='Test')\n",
    "prediction = []  # prediction will be a (131166, 6) list\n",
    "\n",
    "for i, batch in trange:\n",
    "    batch = tuple(t.to(device) for t in batch)\n",
    "    b_input_ids, b_input_mask = batch\n",
    "    b_input_ids = b_input_ids.long()\n",
    "    with torch.no_grad():\n",
    "        o_labels = model(b_input_ids, b_input_mask)[0]\n",
    "    o_labels = o_labels > 0.5\n",
    "    batch_result = np.where(o_labels.cpu().numpy(), 1, 0)  # convert True/False into 1/0\n",
    "    prediction.extend(batch_result)\n",
    "prediction = np.array(prediction)"
   ]
  },
  {
   "cell_type": "markdown",
   "metadata": {
    "colab_type": "text",
    "id": "WF1_Utvkd7eC"
   },
   "source": [
    "# Submit Prediction Results"
   ]
  },
  {
   "cell_type": "code",
   "execution_count": 22,
   "metadata": {
    "colab": {},
    "colab_type": "code",
    "id": "sRZ95_HJd7LB"
   },
   "outputs": [],
   "source": [
    "SubmitGenerator(prediction,\n",
    "                dataset_url+'task1_sample_submission.csv', \n",
    "                True, \n",
    "                dataset_url+'task1_submission.csv')"
   ]
  },
  {
   "cell_type": "code",
   "execution_count": null,
   "metadata": {},
   "outputs": [],
   "source": []
  }
 ],
 "metadata": {
  "accelerator": "GPU",
  "colab": {
   "collapsed_sections": [],
   "name": "BERT.ipynb",
   "provenance": [
    {
     "file_id": "1hsjwNJ43GTNV0EYCcPAZGPdqKUQVp7lI",
     "timestamp": 1575991435570
    },
    {
     "file_id": "1Fd_Ux44Y1TUcpK851JjdTetKYOvGBhGN",
     "timestamp": 1574918810026
    },
    {
     "file_id": "1fFnkwPT6YVw54Qu7WH1rRj59W8lL5tbf",
     "timestamp": 1574738935690
    }
   ],
   "toc_visible": true
  },
  "kernelspec": {
   "display_name": "Python 3",
   "language": "python",
   "name": "python3"
  },
  "language_info": {
   "codemirror_mode": {
    "name": "ipython",
    "version": 3
   },
   "file_extension": ".py",
   "mimetype": "text/x-python",
   "name": "python",
   "nbconvert_exporter": "python",
   "pygments_lexer": "ipython3",
   "version": "3.7.3"
  }
 },
 "nbformat": 4,
 "nbformat_minor": 1
}
